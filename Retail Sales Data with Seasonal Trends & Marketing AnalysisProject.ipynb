{
  "cells": [
    {
      "cell_type": "markdown",
      "source": [
        "# **Project Name - Retail Sales Analysis**\n",
        "# **Made By- Ritika Gupta**"
      ],
      "metadata": {
        "id": "OTpZyvirpa7V"
      },
      "id": "OTpZyvirpa7V"
    },
    {
      "cell_type": "markdown",
      "source": [
        "**Objective**\n",
        "\n",
        "1. **Evaluate Sales Performance**: Analyze the sales data over the specified two-year period to identify trends, peak sales days, and overall revenue performance.\n",
        "\n",
        "2. **Assess Marketing Effectiveness**: Investigate the impact of marketing spend on sales revenue to determine if the current marketing strategies are yielding desired results.\n",
        "\n",
        "3. **Identify Key Insights for Improvement**: Highlight areas such as discount strategies, product categories, and regional performance to provide actionable recommendations for enhancing sales and operational efficiency."
      ],
      "metadata": {
        "id": "isISPTpPqIj7"
      },
      "id": "isISPTpPqIj7"
    },
    {
      "cell_type": "markdown",
      "source": [
        "**Understanding Variables:**\n",
        "- **Store ID**: Identifier for the store.\n",
        "- **Product ID**: Identifier for the product.\n",
        "- **Date**: Date of the sales transaction.\n",
        "- **Units Sold**: Number of units sold.\n",
        "- **Sales Revenue (USD)**: Revenue generated in USD.\n",
        "- **Discount Percentage**: Discount applied to the sales.\n",
        "- **Marketing Spend (USD)**: Marketing spend on that day.\n",
        "- **Store Location**: Geographical location of the store.\n",
        "- **Product Category**: Category of the product sold.\n",
        "- **Day of the Week**: Day of the week for the transaction.\n",
        "- **Holiday Effect**: Indicates whether the transaction occurred during a holiday (True/False).\n"
      ],
      "metadata": {
        "id": "IMXFvqDIqnjr"
      },
      "id": "IMXFvqDIqnjr"
    },
    {
      "cell_type": "code",
      "execution_count": 1,
      "id": "4bb9013e-30c6-47ce-bb4c-947e338ffb71",
      "metadata": {
        "id": "4bb9013e-30c6-47ce-bb4c-947e338ffb71"
      },
      "outputs": [],
      "source": [
        "import pandas as pd\n",
        "import matplotlib.pyplot as plt\n",
        "import seaborn as sns\n",
        "import numpy as np"
      ]
    },
    {
      "cell_type": "markdown",
      "source": [
        "Insight-Imports libraries for data manipulation and visualization: Pandas, Matplotlib, Seaborn, and NumPy."
      ],
      "metadata": {
        "id": "ZmtzIJd7lmwd"
      },
      "id": "ZmtzIJd7lmwd"
    },
    {
      "cell_type": "code",
      "execution_count": 2,
      "id": "45575bb4-8477-41cd-8953-cd001c165887",
      "metadata": {
        "colab": {
          "base_uri": "https://localhost:8080/",
          "height": 310
        },
        "id": "45575bb4-8477-41cd-8953-cd001c165887",
        "outputId": "b2cc9cdd-9fb7-4a85-fbaf-757c16723835"
      },
      "outputs": [
        {
          "output_type": "execute_result",
          "data": {
            "text/plain": [
              "     Store ID  Product ID        Date  Units Sold  Sales Revenue (USD)  \\\n",
              "0  Spearsland    52372247  2022-01-01           9              2741.69   \n",
              "1  Spearsland    52372247  2022-01-02           7              2665.53   \n",
              "2  Spearsland    52372247  2022-01-03           1               380.79   \n",
              "3  Spearsland    52372247  2022-01-04           4              1523.16   \n",
              "4  Spearsland    52372247  2022-01-05           2               761.58   \n",
              "\n",
              "   Discount Percentage  Marketing Spend (USD)             Store Location  \\\n",
              "0                   20                     81                   Tanzania   \n",
              "1                    0                      0                 Mauritania   \n",
              "2                    0                      0  Saint Pierre and Miquelon   \n",
              "3                    0                      0                  Australia   \n",
              "4                    0                      0                  Swaziland   \n",
              "\n",
              "  Product Category Day of the Week  Holiday Effect  \n",
              "0        Furniture        Saturday           False  \n",
              "1        Furniture          Sunday           False  \n",
              "2        Furniture          Monday           False  \n",
              "3        Furniture         Tuesday           False  \n",
              "4        Furniture       Wednesday           False  "
            ],
            "text/html": [
              "\n",
              "  <div id=\"df-e4a7b62f-5564-4dcb-9d43-043f9a7fcb84\" class=\"colab-df-container\">\n",
              "    <div>\n",
              "<style scoped>\n",
              "    .dataframe tbody tr th:only-of-type {\n",
              "        vertical-align: middle;\n",
              "    }\n",
              "\n",
              "    .dataframe tbody tr th {\n",
              "        vertical-align: top;\n",
              "    }\n",
              "\n",
              "    .dataframe thead th {\n",
              "        text-align: right;\n",
              "    }\n",
              "</style>\n",
              "<table border=\"1\" class=\"dataframe\">\n",
              "  <thead>\n",
              "    <tr style=\"text-align: right;\">\n",
              "      <th></th>\n",
              "      <th>Store ID</th>\n",
              "      <th>Product ID</th>\n",
              "      <th>Date</th>\n",
              "      <th>Units Sold</th>\n",
              "      <th>Sales Revenue (USD)</th>\n",
              "      <th>Discount Percentage</th>\n",
              "      <th>Marketing Spend (USD)</th>\n",
              "      <th>Store Location</th>\n",
              "      <th>Product Category</th>\n",
              "      <th>Day of the Week</th>\n",
              "      <th>Holiday Effect</th>\n",
              "    </tr>\n",
              "  </thead>\n",
              "  <tbody>\n",
              "    <tr>\n",
              "      <th>0</th>\n",
              "      <td>Spearsland</td>\n",
              "      <td>52372247</td>\n",
              "      <td>2022-01-01</td>\n",
              "      <td>9</td>\n",
              "      <td>2741.69</td>\n",
              "      <td>20</td>\n",
              "      <td>81</td>\n",
              "      <td>Tanzania</td>\n",
              "      <td>Furniture</td>\n",
              "      <td>Saturday</td>\n",
              "      <td>False</td>\n",
              "    </tr>\n",
              "    <tr>\n",
              "      <th>1</th>\n",
              "      <td>Spearsland</td>\n",
              "      <td>52372247</td>\n",
              "      <td>2022-01-02</td>\n",
              "      <td>7</td>\n",
              "      <td>2665.53</td>\n",
              "      <td>0</td>\n",
              "      <td>0</td>\n",
              "      <td>Mauritania</td>\n",
              "      <td>Furniture</td>\n",
              "      <td>Sunday</td>\n",
              "      <td>False</td>\n",
              "    </tr>\n",
              "    <tr>\n",
              "      <th>2</th>\n",
              "      <td>Spearsland</td>\n",
              "      <td>52372247</td>\n",
              "      <td>2022-01-03</td>\n",
              "      <td>1</td>\n",
              "      <td>380.79</td>\n",
              "      <td>0</td>\n",
              "      <td>0</td>\n",
              "      <td>Saint Pierre and Miquelon</td>\n",
              "      <td>Furniture</td>\n",
              "      <td>Monday</td>\n",
              "      <td>False</td>\n",
              "    </tr>\n",
              "    <tr>\n",
              "      <th>3</th>\n",
              "      <td>Spearsland</td>\n",
              "      <td>52372247</td>\n",
              "      <td>2022-01-04</td>\n",
              "      <td>4</td>\n",
              "      <td>1523.16</td>\n",
              "      <td>0</td>\n",
              "      <td>0</td>\n",
              "      <td>Australia</td>\n",
              "      <td>Furniture</td>\n",
              "      <td>Tuesday</td>\n",
              "      <td>False</td>\n",
              "    </tr>\n",
              "    <tr>\n",
              "      <th>4</th>\n",
              "      <td>Spearsland</td>\n",
              "      <td>52372247</td>\n",
              "      <td>2022-01-05</td>\n",
              "      <td>2</td>\n",
              "      <td>761.58</td>\n",
              "      <td>0</td>\n",
              "      <td>0</td>\n",
              "      <td>Swaziland</td>\n",
              "      <td>Furniture</td>\n",
              "      <td>Wednesday</td>\n",
              "      <td>False</td>\n",
              "    </tr>\n",
              "  </tbody>\n",
              "</table>\n",
              "</div>\n",
              "    <div class=\"colab-df-buttons\">\n",
              "\n",
              "  <div class=\"colab-df-container\">\n",
              "    <button class=\"colab-df-convert\" onclick=\"convertToInteractive('df-e4a7b62f-5564-4dcb-9d43-043f9a7fcb84')\"\n",
              "            title=\"Convert this dataframe to an interactive table.\"\n",
              "            style=\"display:none;\">\n",
              "\n",
              "  <svg xmlns=\"http://www.w3.org/2000/svg\" height=\"24px\" viewBox=\"0 -960 960 960\">\n",
              "    <path d=\"M120-120v-720h720v720H120Zm60-500h600v-160H180v160Zm220 220h160v-160H400v160Zm0 220h160v-160H400v160ZM180-400h160v-160H180v160Zm440 0h160v-160H620v160ZM180-180h160v-160H180v160Zm440 0h160v-160H620v160Z\"/>\n",
              "  </svg>\n",
              "    </button>\n",
              "\n",
              "  <style>\n",
              "    .colab-df-container {\n",
              "      display:flex;\n",
              "      gap: 12px;\n",
              "    }\n",
              "\n",
              "    .colab-df-convert {\n",
              "      background-color: #E8F0FE;\n",
              "      border: none;\n",
              "      border-radius: 50%;\n",
              "      cursor: pointer;\n",
              "      display: none;\n",
              "      fill: #1967D2;\n",
              "      height: 32px;\n",
              "      padding: 0 0 0 0;\n",
              "      width: 32px;\n",
              "    }\n",
              "\n",
              "    .colab-df-convert:hover {\n",
              "      background-color: #E2EBFA;\n",
              "      box-shadow: 0px 1px 2px rgba(60, 64, 67, 0.3), 0px 1px 3px 1px rgba(60, 64, 67, 0.15);\n",
              "      fill: #174EA6;\n",
              "    }\n",
              "\n",
              "    .colab-df-buttons div {\n",
              "      margin-bottom: 4px;\n",
              "    }\n",
              "\n",
              "    [theme=dark] .colab-df-convert {\n",
              "      background-color: #3B4455;\n",
              "      fill: #D2E3FC;\n",
              "    }\n",
              "\n",
              "    [theme=dark] .colab-df-convert:hover {\n",
              "      background-color: #434B5C;\n",
              "      box-shadow: 0px 1px 3px 1px rgba(0, 0, 0, 0.15);\n",
              "      filter: drop-shadow(0px 1px 2px rgba(0, 0, 0, 0.3));\n",
              "      fill: #FFFFFF;\n",
              "    }\n",
              "  </style>\n",
              "\n",
              "    <script>\n",
              "      const buttonEl =\n",
              "        document.querySelector('#df-e4a7b62f-5564-4dcb-9d43-043f9a7fcb84 button.colab-df-convert');\n",
              "      buttonEl.style.display =\n",
              "        google.colab.kernel.accessAllowed ? 'block' : 'none';\n",
              "\n",
              "      async function convertToInteractive(key) {\n",
              "        const element = document.querySelector('#df-e4a7b62f-5564-4dcb-9d43-043f9a7fcb84');\n",
              "        const dataTable =\n",
              "          await google.colab.kernel.invokeFunction('convertToInteractive',\n",
              "                                                    [key], {});\n",
              "        if (!dataTable) return;\n",
              "\n",
              "        const docLinkHtml = 'Like what you see? Visit the ' +\n",
              "          '<a target=\"_blank\" href=https://colab.research.google.com/notebooks/data_table.ipynb>data table notebook</a>'\n",
              "          + ' to learn more about interactive tables.';\n",
              "        element.innerHTML = '';\n",
              "        dataTable['output_type'] = 'display_data';\n",
              "        await google.colab.output.renderOutput(dataTable, element);\n",
              "        const docLink = document.createElement('div');\n",
              "        docLink.innerHTML = docLinkHtml;\n",
              "        element.appendChild(docLink);\n",
              "      }\n",
              "    </script>\n",
              "  </div>\n",
              "\n",
              "\n",
              "<div id=\"df-4b6ea884-5ae3-49e8-ab07-3b797f76bbdc\">\n",
              "  <button class=\"colab-df-quickchart\" onclick=\"quickchart('df-4b6ea884-5ae3-49e8-ab07-3b797f76bbdc')\"\n",
              "            title=\"Suggest charts\"\n",
              "            style=\"display:none;\">\n",
              "\n",
              "<svg xmlns=\"http://www.w3.org/2000/svg\" height=\"24px\"viewBox=\"0 0 24 24\"\n",
              "     width=\"24px\">\n",
              "    <g>\n",
              "        <path d=\"M19 3H5c-1.1 0-2 .9-2 2v14c0 1.1.9 2 2 2h14c1.1 0 2-.9 2-2V5c0-1.1-.9-2-2-2zM9 17H7v-7h2v7zm4 0h-2V7h2v10zm4 0h-2v-4h2v4z\"/>\n",
              "    </g>\n",
              "</svg>\n",
              "  </button>\n",
              "\n",
              "<style>\n",
              "  .colab-df-quickchart {\n",
              "      --bg-color: #E8F0FE;\n",
              "      --fill-color: #1967D2;\n",
              "      --hover-bg-color: #E2EBFA;\n",
              "      --hover-fill-color: #174EA6;\n",
              "      --disabled-fill-color: #AAA;\n",
              "      --disabled-bg-color: #DDD;\n",
              "  }\n",
              "\n",
              "  [theme=dark] .colab-df-quickchart {\n",
              "      --bg-color: #3B4455;\n",
              "      --fill-color: #D2E3FC;\n",
              "      --hover-bg-color: #434B5C;\n",
              "      --hover-fill-color: #FFFFFF;\n",
              "      --disabled-bg-color: #3B4455;\n",
              "      --disabled-fill-color: #666;\n",
              "  }\n",
              "\n",
              "  .colab-df-quickchart {\n",
              "    background-color: var(--bg-color);\n",
              "    border: none;\n",
              "    border-radius: 50%;\n",
              "    cursor: pointer;\n",
              "    display: none;\n",
              "    fill: var(--fill-color);\n",
              "    height: 32px;\n",
              "    padding: 0;\n",
              "    width: 32px;\n",
              "  }\n",
              "\n",
              "  .colab-df-quickchart:hover {\n",
              "    background-color: var(--hover-bg-color);\n",
              "    box-shadow: 0 1px 2px rgba(60, 64, 67, 0.3), 0 1px 3px 1px rgba(60, 64, 67, 0.15);\n",
              "    fill: var(--button-hover-fill-color);\n",
              "  }\n",
              "\n",
              "  .colab-df-quickchart-complete:disabled,\n",
              "  .colab-df-quickchart-complete:disabled:hover {\n",
              "    background-color: var(--disabled-bg-color);\n",
              "    fill: var(--disabled-fill-color);\n",
              "    box-shadow: none;\n",
              "  }\n",
              "\n",
              "  .colab-df-spinner {\n",
              "    border: 2px solid var(--fill-color);\n",
              "    border-color: transparent;\n",
              "    border-bottom-color: var(--fill-color);\n",
              "    animation:\n",
              "      spin 1s steps(1) infinite;\n",
              "  }\n",
              "\n",
              "  @keyframes spin {\n",
              "    0% {\n",
              "      border-color: transparent;\n",
              "      border-bottom-color: var(--fill-color);\n",
              "      border-left-color: var(--fill-color);\n",
              "    }\n",
              "    20% {\n",
              "      border-color: transparent;\n",
              "      border-left-color: var(--fill-color);\n",
              "      border-top-color: var(--fill-color);\n",
              "    }\n",
              "    30% {\n",
              "      border-color: transparent;\n",
              "      border-left-color: var(--fill-color);\n",
              "      border-top-color: var(--fill-color);\n",
              "      border-right-color: var(--fill-color);\n",
              "    }\n",
              "    40% {\n",
              "      border-color: transparent;\n",
              "      border-right-color: var(--fill-color);\n",
              "      border-top-color: var(--fill-color);\n",
              "    }\n",
              "    60% {\n",
              "      border-color: transparent;\n",
              "      border-right-color: var(--fill-color);\n",
              "    }\n",
              "    80% {\n",
              "      border-color: transparent;\n",
              "      border-right-color: var(--fill-color);\n",
              "      border-bottom-color: var(--fill-color);\n",
              "    }\n",
              "    90% {\n",
              "      border-color: transparent;\n",
              "      border-bottom-color: var(--fill-color);\n",
              "    }\n",
              "  }\n",
              "</style>\n",
              "\n",
              "  <script>\n",
              "    async function quickchart(key) {\n",
              "      const quickchartButtonEl =\n",
              "        document.querySelector('#' + key + ' button');\n",
              "      quickchartButtonEl.disabled = true;  // To prevent multiple clicks.\n",
              "      quickchartButtonEl.classList.add('colab-df-spinner');\n",
              "      try {\n",
              "        const charts = await google.colab.kernel.invokeFunction(\n",
              "            'suggestCharts', [key], {});\n",
              "      } catch (error) {\n",
              "        console.error('Error during call to suggestCharts:', error);\n",
              "      }\n",
              "      quickchartButtonEl.classList.remove('colab-df-spinner');\n",
              "      quickchartButtonEl.classList.add('colab-df-quickchart-complete');\n",
              "    }\n",
              "    (() => {\n",
              "      let quickchartButtonEl =\n",
              "        document.querySelector('#df-4b6ea884-5ae3-49e8-ab07-3b797f76bbdc button');\n",
              "      quickchartButtonEl.style.display =\n",
              "        google.colab.kernel.accessAllowed ? 'block' : 'none';\n",
              "    })();\n",
              "  </script>\n",
              "</div>\n",
              "\n",
              "    </div>\n",
              "  </div>\n"
            ],
            "application/vnd.google.colaboratory.intrinsic+json": {
              "type": "dataframe",
              "variable_name": "data",
              "summary": "{\n  \"name\": \"data\",\n  \"rows\": 30000,\n  \"fields\": [\n    {\n      \"column\": \"Store ID\",\n      \"properties\": {\n        \"dtype\": \"category\",\n        \"num_unique_values\": 1,\n        \"samples\": [\n          \"Spearsland\"\n        ],\n        \"semantic_type\": \"\",\n        \"description\": \"\"\n      }\n    },\n    {\n      \"column\": \"Product ID\",\n      \"properties\": {\n        \"dtype\": \"number\",\n        \"std\": 27797592,\n        \"min\": 3636541,\n        \"max\": 96282526,\n        \"num_unique_values\": 42,\n        \"samples\": [\n          86469371\n        ],\n        \"semantic_type\": \"\",\n        \"description\": \"\"\n      }\n    },\n    {\n      \"column\": \"Date\",\n      \"properties\": {\n        \"dtype\": \"object\",\n        \"num_unique_values\": 731,\n        \"samples\": [\n          \"2023-12-05\"\n        ],\n        \"semantic_type\": \"\",\n        \"description\": \"\"\n      }\n    },\n    {\n      \"column\": \"Units Sold\",\n      \"properties\": {\n        \"dtype\": \"number\",\n        \"std\": 3,\n        \"min\": 0,\n        \"max\": 56,\n        \"num_unique_values\": 32,\n        \"samples\": [\n          30\n        ],\n        \"semantic_type\": \"\",\n        \"description\": \"\"\n      }\n    },\n    {\n      \"column\": \"Sales Revenue (USD)\",\n      \"properties\": {\n        \"dtype\": \"number\",\n        \"std\": 2568.6392876579025,\n        \"min\": 0.0,\n        \"max\": 27165.88,\n        \"num_unique_values\": 2545,\n        \"samples\": [\n          3236.72\n        ],\n        \"semantic_type\": \"\",\n        \"description\": \"\"\n      }\n    },\n    {\n      \"column\": \"Discount Percentage\",\n      \"properties\": {\n        \"dtype\": \"number\",\n        \"std\": 5,\n        \"min\": 0,\n        \"max\": 20,\n        \"num_unique_values\": 5,\n        \"samples\": [\n          0\n        ],\n        \"semantic_type\": \"\",\n        \"description\": \"\"\n      }\n    },\n    {\n      \"column\": \"Marketing Spend (USD)\",\n      \"properties\": {\n        \"dtype\": \"number\",\n        \"std\": 64,\n        \"min\": 0,\n        \"max\": 199,\n        \"num_unique_values\": 200,\n        \"samples\": [\n          26\n        ],\n        \"semantic_type\": \"\",\n        \"description\": \"\"\n      }\n    },\n    {\n      \"column\": \"Store Location\",\n      \"properties\": {\n        \"dtype\": \"category\",\n        \"num_unique_values\": 243,\n        \"samples\": [\n          \"Reunion\"\n        ],\n        \"semantic_type\": \"\",\n        \"description\": \"\"\n      }\n    },\n    {\n      \"column\": \"Product Category\",\n      \"properties\": {\n        \"dtype\": \"category\",\n        \"num_unique_values\": 4,\n        \"samples\": [\n          \"Electronics\"\n        ],\n        \"semantic_type\": \"\",\n        \"description\": \"\"\n      }\n    },\n    {\n      \"column\": \"Day of the Week\",\n      \"properties\": {\n        \"dtype\": \"category\",\n        \"num_unique_values\": 7,\n        \"samples\": [\n          \"Saturday\"\n        ],\n        \"semantic_type\": \"\",\n        \"description\": \"\"\n      }\n    },\n    {\n      \"column\": \"Holiday Effect\",\n      \"properties\": {\n        \"dtype\": \"boolean\",\n        \"num_unique_values\": 2,\n        \"samples\": [\n          true\n        ],\n        \"semantic_type\": \"\",\n        \"description\": \"\"\n      }\n    }\n  ]\n}"
            }
          },
          "metadata": {},
          "execution_count": 2
        }
      ],
      "source": [
        "data = pd.read_csv(\"/content/Retail_sales.csv\")\n",
        "data.head()"
      ]
    },
    {
      "cell_type": "markdown",
      "source": [
        "Insight-Reads a CSV file into a DataFrame and displays the first few rows for a quick overview."
      ],
      "metadata": {
        "id": "sHwNeTtdl1jW"
      },
      "id": "sHwNeTtdl1jW"
    },
    {
      "cell_type": "code",
      "execution_count": 3,
      "id": "ea5b5a88-2532-4263-8f6f-549eca8ccdda",
      "metadata": {
        "colab": {
          "base_uri": "https://localhost:8080/"
        },
        "id": "ea5b5a88-2532-4263-8f6f-549eca8ccdda",
        "outputId": "1b8d9b4e-fde3-49ae-e43d-9c1566a3707a"
      },
      "outputs": [
        {
          "output_type": "stream",
          "name": "stdout",
          "text": [
            "<class 'pandas.core.frame.DataFrame'>\n",
            "RangeIndex: 30000 entries, 0 to 29999\n",
            "Data columns (total 11 columns):\n",
            " #   Column                 Non-Null Count  Dtype  \n",
            "---  ------                 --------------  -----  \n",
            " 0   Store ID               30000 non-null  object \n",
            " 1   Product ID             30000 non-null  int64  \n",
            " 2   Date                   30000 non-null  object \n",
            " 3   Units Sold             30000 non-null  int64  \n",
            " 4   Sales Revenue (USD)    30000 non-null  float64\n",
            " 5   Discount Percentage    30000 non-null  int64  \n",
            " 6   Marketing Spend (USD)  30000 non-null  int64  \n",
            " 7   Store Location         30000 non-null  object \n",
            " 8   Product Category       30000 non-null  object \n",
            " 9   Day of the Week        30000 non-null  object \n",
            " 10  Holiday Effect         30000 non-null  bool   \n",
            "dtypes: bool(1), float64(1), int64(4), object(5)\n",
            "memory usage: 2.3+ MB\n"
          ]
        }
      ],
      "source": [
        "data.info()"
      ]
    },
    {
      "cell_type": "markdown",
      "source": [
        "Insight-Displays summary information about the DataFrame, including data types, non-null counts, and memory usage."
      ],
      "metadata": {
        "id": "-oxYhhNMmAD1"
      },
      "id": "-oxYhhNMmAD1"
    },
    {
      "cell_type": "code",
      "execution_count": 4,
      "id": "faece056-2153-4f20-9887-36da262614d4",
      "metadata": {
        "colab": {
          "base_uri": "https://localhost:8080/",
          "height": 429
        },
        "id": "faece056-2153-4f20-9887-36da262614d4",
        "outputId": "be5ed30c-c427-4a4c-a398-6bd101a7f162"
      },
      "outputs": [
        {
          "output_type": "execute_result",
          "data": {
            "text/plain": [
              "Store ID                 0\n",
              "Product ID               0\n",
              "Date                     0\n",
              "Units Sold               0\n",
              "Sales Revenue (USD)      0\n",
              "Discount Percentage      0\n",
              "Marketing Spend (USD)    0\n",
              "Store Location           0\n",
              "Product Category         0\n",
              "Day of the Week          0\n",
              "Holiday Effect           0\n",
              "dtype: int64"
            ],
            "text/html": [
              "<div>\n",
              "<style scoped>\n",
              "    .dataframe tbody tr th:only-of-type {\n",
              "        vertical-align: middle;\n",
              "    }\n",
              "\n",
              "    .dataframe tbody tr th {\n",
              "        vertical-align: top;\n",
              "    }\n",
              "\n",
              "    .dataframe thead th {\n",
              "        text-align: right;\n",
              "    }\n",
              "</style>\n",
              "<table border=\"1\" class=\"dataframe\">\n",
              "  <thead>\n",
              "    <tr style=\"text-align: right;\">\n",
              "      <th></th>\n",
              "      <th>0</th>\n",
              "    </tr>\n",
              "  </thead>\n",
              "  <tbody>\n",
              "    <tr>\n",
              "      <th>Store ID</th>\n",
              "      <td>0</td>\n",
              "    </tr>\n",
              "    <tr>\n",
              "      <th>Product ID</th>\n",
              "      <td>0</td>\n",
              "    </tr>\n",
              "    <tr>\n",
              "      <th>Date</th>\n",
              "      <td>0</td>\n",
              "    </tr>\n",
              "    <tr>\n",
              "      <th>Units Sold</th>\n",
              "      <td>0</td>\n",
              "    </tr>\n",
              "    <tr>\n",
              "      <th>Sales Revenue (USD)</th>\n",
              "      <td>0</td>\n",
              "    </tr>\n",
              "    <tr>\n",
              "      <th>Discount Percentage</th>\n",
              "      <td>0</td>\n",
              "    </tr>\n",
              "    <tr>\n",
              "      <th>Marketing Spend (USD)</th>\n",
              "      <td>0</td>\n",
              "    </tr>\n",
              "    <tr>\n",
              "      <th>Store Location</th>\n",
              "      <td>0</td>\n",
              "    </tr>\n",
              "    <tr>\n",
              "      <th>Product Category</th>\n",
              "      <td>0</td>\n",
              "    </tr>\n",
              "    <tr>\n",
              "      <th>Day of the Week</th>\n",
              "      <td>0</td>\n",
              "    </tr>\n",
              "    <tr>\n",
              "      <th>Holiday Effect</th>\n",
              "      <td>0</td>\n",
              "    </tr>\n",
              "  </tbody>\n",
              "</table>\n",
              "</div><br><label><b>dtype:</b> int64</label>"
            ]
          },
          "metadata": {},
          "execution_count": 4
        }
      ],
      "source": [
        "data.isna().sum()"
      ]
    },
    {
      "cell_type": "markdown",
      "source": [
        "Insight-Shows DataFrame summary, including data types, non-null counts, and memory usage details."
      ],
      "metadata": {
        "id": "-UAOr4psmJcm"
      },
      "id": "-UAOr4psmJcm"
    },
    {
      "cell_type": "code",
      "execution_count": 5,
      "id": "14e2c818-1f32-4dc4-81fe-ca2f8a931782",
      "metadata": {
        "colab": {
          "base_uri": "https://localhost:8080/",
          "height": 300
        },
        "id": "14e2c818-1f32-4dc4-81fe-ca2f8a931782",
        "outputId": "1a05bb35-4137-4017-8bbe-a10da9ac06c3"
      },
      "outputs": [
        {
          "output_type": "execute_result",
          "data": {
            "text/plain": [
              "         Product ID    Units Sold  Sales Revenue (USD)  Discount Percentage  \\\n",
              "count  3.000000e+04  30000.000000         30000.000000         30000.000000   \n",
              "mean   4.461294e+07      6.161967          2749.509593             2.973833   \n",
              "std    2.779759e+07      3.323929          2568.639288             5.974530   \n",
              "min    3.636541e+06      0.000000             0.000000             0.000000   \n",
              "25%    2.228600e+07      4.000000           882.592500             0.000000   \n",
              "50%    4.002449e+07      6.000000          1902.420000             0.000000   \n",
              "75%    6.559352e+07      8.000000          3863.920000             0.000000   \n",
              "max    9.628253e+07     56.000000         27165.880000            20.000000   \n",
              "\n",
              "       Marketing Spend (USD)  \n",
              "count           30000.000000  \n",
              "mean               49.944033  \n",
              "std                64.401655  \n",
              "min                 0.000000  \n",
              "25%                 0.000000  \n",
              "50%                 1.000000  \n",
              "75%               100.000000  \n",
              "max               199.000000  "
            ],
            "text/html": [
              "\n",
              "  <div id=\"df-f006d678-413d-47cb-a3ae-8452351d20e5\" class=\"colab-df-container\">\n",
              "    <div>\n",
              "<style scoped>\n",
              "    .dataframe tbody tr th:only-of-type {\n",
              "        vertical-align: middle;\n",
              "    }\n",
              "\n",
              "    .dataframe tbody tr th {\n",
              "        vertical-align: top;\n",
              "    }\n",
              "\n",
              "    .dataframe thead th {\n",
              "        text-align: right;\n",
              "    }\n",
              "</style>\n",
              "<table border=\"1\" class=\"dataframe\">\n",
              "  <thead>\n",
              "    <tr style=\"text-align: right;\">\n",
              "      <th></th>\n",
              "      <th>Product ID</th>\n",
              "      <th>Units Sold</th>\n",
              "      <th>Sales Revenue (USD)</th>\n",
              "      <th>Discount Percentage</th>\n",
              "      <th>Marketing Spend (USD)</th>\n",
              "    </tr>\n",
              "  </thead>\n",
              "  <tbody>\n",
              "    <tr>\n",
              "      <th>count</th>\n",
              "      <td>3.000000e+04</td>\n",
              "      <td>30000.000000</td>\n",
              "      <td>30000.000000</td>\n",
              "      <td>30000.000000</td>\n",
              "      <td>30000.000000</td>\n",
              "    </tr>\n",
              "    <tr>\n",
              "      <th>mean</th>\n",
              "      <td>4.461294e+07</td>\n",
              "      <td>6.161967</td>\n",
              "      <td>2749.509593</td>\n",
              "      <td>2.973833</td>\n",
              "      <td>49.944033</td>\n",
              "    </tr>\n",
              "    <tr>\n",
              "      <th>std</th>\n",
              "      <td>2.779759e+07</td>\n",
              "      <td>3.323929</td>\n",
              "      <td>2568.639288</td>\n",
              "      <td>5.974530</td>\n",
              "      <td>64.401655</td>\n",
              "    </tr>\n",
              "    <tr>\n",
              "      <th>min</th>\n",
              "      <td>3.636541e+06</td>\n",
              "      <td>0.000000</td>\n",
              "      <td>0.000000</td>\n",
              "      <td>0.000000</td>\n",
              "      <td>0.000000</td>\n",
              "    </tr>\n",
              "    <tr>\n",
              "      <th>25%</th>\n",
              "      <td>2.228600e+07</td>\n",
              "      <td>4.000000</td>\n",
              "      <td>882.592500</td>\n",
              "      <td>0.000000</td>\n",
              "      <td>0.000000</td>\n",
              "    </tr>\n",
              "    <tr>\n",
              "      <th>50%</th>\n",
              "      <td>4.002449e+07</td>\n",
              "      <td>6.000000</td>\n",
              "      <td>1902.420000</td>\n",
              "      <td>0.000000</td>\n",
              "      <td>1.000000</td>\n",
              "    </tr>\n",
              "    <tr>\n",
              "      <th>75%</th>\n",
              "      <td>6.559352e+07</td>\n",
              "      <td>8.000000</td>\n",
              "      <td>3863.920000</td>\n",
              "      <td>0.000000</td>\n",
              "      <td>100.000000</td>\n",
              "    </tr>\n",
              "    <tr>\n",
              "      <th>max</th>\n",
              "      <td>9.628253e+07</td>\n",
              "      <td>56.000000</td>\n",
              "      <td>27165.880000</td>\n",
              "      <td>20.000000</td>\n",
              "      <td>199.000000</td>\n",
              "    </tr>\n",
              "  </tbody>\n",
              "</table>\n",
              "</div>\n",
              "    <div class=\"colab-df-buttons\">\n",
              "\n",
              "  <div class=\"colab-df-container\">\n",
              "    <button class=\"colab-df-convert\" onclick=\"convertToInteractive('df-f006d678-413d-47cb-a3ae-8452351d20e5')\"\n",
              "            title=\"Convert this dataframe to an interactive table.\"\n",
              "            style=\"display:none;\">\n",
              "\n",
              "  <svg xmlns=\"http://www.w3.org/2000/svg\" height=\"24px\" viewBox=\"0 -960 960 960\">\n",
              "    <path d=\"M120-120v-720h720v720H120Zm60-500h600v-160H180v160Zm220 220h160v-160H400v160Zm0 220h160v-160H400v160ZM180-400h160v-160H180v160Zm440 0h160v-160H620v160ZM180-180h160v-160H180v160Zm440 0h160v-160H620v160Z\"/>\n",
              "  </svg>\n",
              "    </button>\n",
              "\n",
              "  <style>\n",
              "    .colab-df-container {\n",
              "      display:flex;\n",
              "      gap: 12px;\n",
              "    }\n",
              "\n",
              "    .colab-df-convert {\n",
              "      background-color: #E8F0FE;\n",
              "      border: none;\n",
              "      border-radius: 50%;\n",
              "      cursor: pointer;\n",
              "      display: none;\n",
              "      fill: #1967D2;\n",
              "      height: 32px;\n",
              "      padding: 0 0 0 0;\n",
              "      width: 32px;\n",
              "    }\n",
              "\n",
              "    .colab-df-convert:hover {\n",
              "      background-color: #E2EBFA;\n",
              "      box-shadow: 0px 1px 2px rgba(60, 64, 67, 0.3), 0px 1px 3px 1px rgba(60, 64, 67, 0.15);\n",
              "      fill: #174EA6;\n",
              "    }\n",
              "\n",
              "    .colab-df-buttons div {\n",
              "      margin-bottom: 4px;\n",
              "    }\n",
              "\n",
              "    [theme=dark] .colab-df-convert {\n",
              "      background-color: #3B4455;\n",
              "      fill: #D2E3FC;\n",
              "    }\n",
              "\n",
              "    [theme=dark] .colab-df-convert:hover {\n",
              "      background-color: #434B5C;\n",
              "      box-shadow: 0px 1px 3px 1px rgba(0, 0, 0, 0.15);\n",
              "      filter: drop-shadow(0px 1px 2px rgba(0, 0, 0, 0.3));\n",
              "      fill: #FFFFFF;\n",
              "    }\n",
              "  </style>\n",
              "\n",
              "    <script>\n",
              "      const buttonEl =\n",
              "        document.querySelector('#df-f006d678-413d-47cb-a3ae-8452351d20e5 button.colab-df-convert');\n",
              "      buttonEl.style.display =\n",
              "        google.colab.kernel.accessAllowed ? 'block' : 'none';\n",
              "\n",
              "      async function convertToInteractive(key) {\n",
              "        const element = document.querySelector('#df-f006d678-413d-47cb-a3ae-8452351d20e5');\n",
              "        const dataTable =\n",
              "          await google.colab.kernel.invokeFunction('convertToInteractive',\n",
              "                                                    [key], {});\n",
              "        if (!dataTable) return;\n",
              "\n",
              "        const docLinkHtml = 'Like what you see? Visit the ' +\n",
              "          '<a target=\"_blank\" href=https://colab.research.google.com/notebooks/data_table.ipynb>data table notebook</a>'\n",
              "          + ' to learn more about interactive tables.';\n",
              "        element.innerHTML = '';\n",
              "        dataTable['output_type'] = 'display_data';\n",
              "        await google.colab.output.renderOutput(dataTable, element);\n",
              "        const docLink = document.createElement('div');\n",
              "        docLink.innerHTML = docLinkHtml;\n",
              "        element.appendChild(docLink);\n",
              "      }\n",
              "    </script>\n",
              "  </div>\n",
              "\n",
              "\n",
              "<div id=\"df-f7fae295-42d5-48d3-97ac-6d3c47be454e\">\n",
              "  <button class=\"colab-df-quickchart\" onclick=\"quickchart('df-f7fae295-42d5-48d3-97ac-6d3c47be454e')\"\n",
              "            title=\"Suggest charts\"\n",
              "            style=\"display:none;\">\n",
              "\n",
              "<svg xmlns=\"http://www.w3.org/2000/svg\" height=\"24px\"viewBox=\"0 0 24 24\"\n",
              "     width=\"24px\">\n",
              "    <g>\n",
              "        <path d=\"M19 3H5c-1.1 0-2 .9-2 2v14c0 1.1.9 2 2 2h14c1.1 0 2-.9 2-2V5c0-1.1-.9-2-2-2zM9 17H7v-7h2v7zm4 0h-2V7h2v10zm4 0h-2v-4h2v4z\"/>\n",
              "    </g>\n",
              "</svg>\n",
              "  </button>\n",
              "\n",
              "<style>\n",
              "  .colab-df-quickchart {\n",
              "      --bg-color: #E8F0FE;\n",
              "      --fill-color: #1967D2;\n",
              "      --hover-bg-color: #E2EBFA;\n",
              "      --hover-fill-color: #174EA6;\n",
              "      --disabled-fill-color: #AAA;\n",
              "      --disabled-bg-color: #DDD;\n",
              "  }\n",
              "\n",
              "  [theme=dark] .colab-df-quickchart {\n",
              "      --bg-color: #3B4455;\n",
              "      --fill-color: #D2E3FC;\n",
              "      --hover-bg-color: #434B5C;\n",
              "      --hover-fill-color: #FFFFFF;\n",
              "      --disabled-bg-color: #3B4455;\n",
              "      --disabled-fill-color: #666;\n",
              "  }\n",
              "\n",
              "  .colab-df-quickchart {\n",
              "    background-color: var(--bg-color);\n",
              "    border: none;\n",
              "    border-radius: 50%;\n",
              "    cursor: pointer;\n",
              "    display: none;\n",
              "    fill: var(--fill-color);\n",
              "    height: 32px;\n",
              "    padding: 0;\n",
              "    width: 32px;\n",
              "  }\n",
              "\n",
              "  .colab-df-quickchart:hover {\n",
              "    background-color: var(--hover-bg-color);\n",
              "    box-shadow: 0 1px 2px rgba(60, 64, 67, 0.3), 0 1px 3px 1px rgba(60, 64, 67, 0.15);\n",
              "    fill: var(--button-hover-fill-color);\n",
              "  }\n",
              "\n",
              "  .colab-df-quickchart-complete:disabled,\n",
              "  .colab-df-quickchart-complete:disabled:hover {\n",
              "    background-color: var(--disabled-bg-color);\n",
              "    fill: var(--disabled-fill-color);\n",
              "    box-shadow: none;\n",
              "  }\n",
              "\n",
              "  .colab-df-spinner {\n",
              "    border: 2px solid var(--fill-color);\n",
              "    border-color: transparent;\n",
              "    border-bottom-color: var(--fill-color);\n",
              "    animation:\n",
              "      spin 1s steps(1) infinite;\n",
              "  }\n",
              "\n",
              "  @keyframes spin {\n",
              "    0% {\n",
              "      border-color: transparent;\n",
              "      border-bottom-color: var(--fill-color);\n",
              "      border-left-color: var(--fill-color);\n",
              "    }\n",
              "    20% {\n",
              "      border-color: transparent;\n",
              "      border-left-color: var(--fill-color);\n",
              "      border-top-color: var(--fill-color);\n",
              "    }\n",
              "    30% {\n",
              "      border-color: transparent;\n",
              "      border-left-color: var(--fill-color);\n",
              "      border-top-color: var(--fill-color);\n",
              "      border-right-color: var(--fill-color);\n",
              "    }\n",
              "    40% {\n",
              "      border-color: transparent;\n",
              "      border-right-color: var(--fill-color);\n",
              "      border-top-color: var(--fill-color);\n",
              "    }\n",
              "    60% {\n",
              "      border-color: transparent;\n",
              "      border-right-color: var(--fill-color);\n",
              "    }\n",
              "    80% {\n",
              "      border-color: transparent;\n",
              "      border-right-color: var(--fill-color);\n",
              "      border-bottom-color: var(--fill-color);\n",
              "    }\n",
              "    90% {\n",
              "      border-color: transparent;\n",
              "      border-bottom-color: var(--fill-color);\n",
              "    }\n",
              "  }\n",
              "</style>\n",
              "\n",
              "  <script>\n",
              "    async function quickchart(key) {\n",
              "      const quickchartButtonEl =\n",
              "        document.querySelector('#' + key + ' button');\n",
              "      quickchartButtonEl.disabled = true;  // To prevent multiple clicks.\n",
              "      quickchartButtonEl.classList.add('colab-df-spinner');\n",
              "      try {\n",
              "        const charts = await google.colab.kernel.invokeFunction(\n",
              "            'suggestCharts', [key], {});\n",
              "      } catch (error) {\n",
              "        console.error('Error during call to suggestCharts:', error);\n",
              "      }\n",
              "      quickchartButtonEl.classList.remove('colab-df-spinner');\n",
              "      quickchartButtonEl.classList.add('colab-df-quickchart-complete');\n",
              "    }\n",
              "    (() => {\n",
              "      let quickchartButtonEl =\n",
              "        document.querySelector('#df-f7fae295-42d5-48d3-97ac-6d3c47be454e button');\n",
              "      quickchartButtonEl.style.display =\n",
              "        google.colab.kernel.accessAllowed ? 'block' : 'none';\n",
              "    })();\n",
              "  </script>\n",
              "</div>\n",
              "\n",
              "    </div>\n",
              "  </div>\n"
            ],
            "application/vnd.google.colaboratory.intrinsic+json": {
              "type": "dataframe",
              "summary": "{\n  \"name\": \"data\",\n  \"rows\": 8,\n  \"fields\": [\n    {\n      \"column\": \"Product ID\",\n      \"properties\": {\n        \"dtype\": \"number\",\n        \"std\": 32022150.736498088,\n        \"min\": 30000.0,\n        \"max\": 96282526.0,\n        \"num_unique_values\": 8,\n        \"samples\": [\n          44612943.57773333,\n          40024486.0,\n          30000.0\n        ],\n        \"semantic_type\": \"\",\n        \"description\": \"\"\n      }\n    },\n    {\n      \"column\": \"Units Sold\",\n      \"properties\": {\n        \"dtype\": \"number\",\n        \"std\": 10602.400574307496,\n        \"min\": 0.0,\n        \"max\": 30000.0,\n        \"num_unique_values\": 8,\n        \"samples\": [\n          6.161966666666666,\n          6.0,\n          30000.0\n        ],\n        \"semantic_type\": \"\",\n        \"description\": \"\"\n      }\n    },\n    {\n      \"column\": \"Sales Revenue (USD)\",\n      \"properties\": {\n        \"dtype\": \"number\",\n        \"std\": 12386.917075555628,\n        \"min\": 0.0,\n        \"max\": 30000.0,\n        \"num_unique_values\": 8,\n        \"samples\": [\n          2749.509592666667,\n          1902.42,\n          30000.0\n        ],\n        \"semantic_type\": \"\",\n        \"description\": \"\"\n      }\n    },\n    {\n      \"column\": \"Discount Percentage\",\n      \"properties\": {\n        \"dtype\": \"number\",\n        \"std\": 10605.141792444512,\n        \"min\": 0.0,\n        \"max\": 30000.0,\n        \"num_unique_values\": 5,\n        \"samples\": [\n          2.9738333333333333,\n          20.0,\n          5.974529700242515\n        ],\n        \"semantic_type\": \"\",\n        \"description\": \"\"\n      }\n    },\n    {\n      \"column\": \"Marketing Spend (USD)\",\n      \"properties\": {\n        \"dtype\": \"number\",\n        \"std\": 10585.88812000081,\n        \"min\": 0.0,\n        \"max\": 30000.0,\n        \"num_unique_values\": 7,\n        \"samples\": [\n          30000.0,\n          49.94403333333333,\n          100.0\n        ],\n        \"semantic_type\": \"\",\n        \"description\": \"\"\n      }\n    }\n  ]\n}"
            }
          },
          "metadata": {},
          "execution_count": 5
        }
      ],
      "source": [
        "data.describe()"
      ]
    },
    {
      "cell_type": "markdown",
      "source": [
        "Insight- Generates descriptive statistics for numerical columns, including count, mean, min, max, and quartiles."
      ],
      "metadata": {
        "id": "3TiLXlwKmRgc"
      },
      "id": "3TiLXlwKmRgc"
    },
    {
      "cell_type": "code",
      "execution_count": 6,
      "id": "364064bd-f843-428b-9d8d-27de521305e4",
      "metadata": {
        "id": "364064bd-f843-428b-9d8d-27de521305e4"
      },
      "outputs": [],
      "source": [
        "def format_value(value):\n",
        "    if value >= 1000000:\n",
        "        return f'{value / 1000000:.2f}M'\n",
        "    elif value >= 1000:\n",
        "        return f'{value / 1000:.2f}K'\n",
        "    else:\n",
        "        return f'{value:.2f}'"
      ]
    },
    {
      "cell_type": "markdown",
      "source": [
        "Insight-Defines a function to format values into human-readable strings, converting large numbers to millions (M) or thousands (K)."
      ],
      "metadata": {
        "id": "H8sNCuJwmaq9"
      },
      "id": "H8sNCuJwmaq9"
    },
    {
      "cell_type": "markdown",
      "id": "d6213443-1b56-4e19-9255-06e09580db7d",
      "metadata": {
        "id": "d6213443-1b56-4e19-9255-06e09580db7d"
      },
      "source": [
        "<h1>Descriptive Analytics</h1>"
      ]
    },
    {
      "cell_type": "code",
      "execution_count": 7,
      "id": "d72cf911-76e9-4b92-848a-983f71d18c29",
      "metadata": {
        "colab": {
          "base_uri": "https://localhost:8080/"
        },
        "id": "d72cf911-76e9-4b92-848a-983f71d18c29",
        "outputId": "ad38e87d-7b29-4a71-d31a-a8a5028bac20"
      },
      "outputs": [
        {
          "output_type": "stream",
          "name": "stdout",
          "text": [
            "Total Sales: 82.49M\n"
          ]
        }
      ],
      "source": [
        "total_sales_revenue = data['Sales Revenue (USD)'].sum()\n",
        "\n",
        "print(f'Total Sales: {format_value(total_sales_revenue)}')"
      ]
    },
    {
      "cell_type": "markdown",
      "source": [
        "Insight-Calculates total sales revenue from the DataFrame and prints it in a formatted string using the `format_value` function."
      ],
      "metadata": {
        "id": "F1jWeJkpmgZM"
      },
      "id": "F1jWeJkpmgZM"
    },
    {
      "cell_type": "code",
      "execution_count": 8,
      "id": "fbb8810d-fc60-4972-a66f-caf0b64cbc88",
      "metadata": {
        "colab": {
          "base_uri": "https://localhost:8080/"
        },
        "id": "fbb8810d-fc60-4972-a66f-caf0b64cbc88",
        "outputId": "6fa9aa84-0ab7-4d90-9712-adbb0f40ebb0"
      },
      "outputs": [
        {
          "output_type": "stream",
          "name": "stdout",
          "text": [
            "Average Units Sold per Day: 6.16\n"
          ]
        }
      ],
      "source": [
        "# Calculate the average units sold per day\n",
        "average_units_sold_per_day = data['Units Sold'].mean()\n",
        "\n",
        "# Print the result\n",
        "print(f'Average Units Sold per Day: {average_units_sold_per_day:.2f}')"
      ]
    },
    {
      "cell_type": "markdown",
      "source": [
        "Insight-Calculates and prints the average units sold per day, formatted to two decimal places."
      ],
      "metadata": {
        "id": "bSfPkSvOmqOi"
      },
      "id": "bSfPkSvOmqOi"
    },
    {
      "cell_type": "code",
      "execution_count": 9,
      "id": "9262da5f-36b7-40b0-a8d1-85009c35813a",
      "metadata": {
        "colab": {
          "base_uri": "https://localhost:8080/"
        },
        "id": "9262da5f-36b7-40b0-a8d1-85009c35813a",
        "outputId": "66a44111-310b-4063-9beb-252d98a31fa1"
      },
      "outputs": [
        {
          "output_type": "stream",
          "name": "stdout",
          "text": [
            "Average Discount Percentage: 2.97%\n"
          ]
        }
      ],
      "source": [
        "# Calculate the average discount percentage\n",
        "average_discount_percentage = data['Discount Percentage'].mean()\n",
        "\n",
        "# Print the result\n",
        "print(f'Average Discount Percentage: {average_discount_percentage:.2f}%')"
      ]
    },
    {
      "cell_type": "markdown",
      "source": [
        "Insight-Calculates and prints the average discount percentage, formatted to two decimal places with a percent sign."
      ],
      "metadata": {
        "id": "zvV7R0R2mvAy"
      },
      "id": "zvV7R0R2mvAy"
    },
    {
      "cell_type": "code",
      "execution_count": 10,
      "id": "0ba385f9-8b9a-4de8-a5e1-144cbf0e9a56",
      "metadata": {
        "colab": {
          "base_uri": "https://localhost:8080/"
        },
        "id": "0ba385f9-8b9a-4de8-a5e1-144cbf0e9a56",
        "outputId": "10205c5a-bc12-4d91-8428-0e85cf8a3057"
      },
      "outputs": [
        {
          "output_type": "stream",
          "name": "stdout",
          "text": [
            "Total Marketing Spend: 1.50M\n"
          ]
        }
      ],
      "source": [
        "total_marketing_spend = data['Marketing Spend (USD)'].sum()\n",
        "print(f'Total Marketing Spend: {format_value(total_marketing_spend)}')"
      ]
    },
    {
      "cell_type": "markdown",
      "source": [
        "Insiight-Total marketing spend indicates overall investment; assess effectiveness to optimize future strategies."
      ],
      "metadata": {
        "id": "egiebzOzm2fL"
      },
      "id": "egiebzOzm2fL"
    },
    {
      "cell_type": "code",
      "execution_count": 11,
      "id": "be03e045-d301-47b0-b066-05a903136e14",
      "metadata": {
        "colab": {
          "base_uri": "https://localhost:8080/"
        },
        "id": "be03e045-d301-47b0-b066-05a903136e14",
        "outputId": "a5769aa9-2545-4695-f9d5-344f08abacf0"
      },
      "outputs": [
        {
          "output_type": "stream",
          "name": "stdout",
          "text": [
            "Start Date: 2022-01-01\n",
            "End Date: 2024-01-01\n"
          ]
        }
      ],
      "source": [
        "# Extract the starting and ending dates from the data\n",
        "start_date = data['Date'].min()\n",
        "end_date = data['Date'].max()\n",
        "\n",
        "# Print the results\n",
        "print(f'Start Date: {start_date}')\n",
        "print(f'End Date: {end_date}')"
      ]
    },
    {
      "cell_type": "markdown",
      "source": [
        "Insight-The date range reflects the duration of your data, crucial for trend analysis.\n"
      ],
      "metadata": {
        "id": "BJbuq5tDnDQn"
      },
      "id": "BJbuq5tDnDQn"
    },
    {
      "cell_type": "markdown",
      "id": "f4cde58f-f264-4c6d-8cd2-1da50cd0219c",
      "metadata": {
        "id": "f4cde58f-f264-4c6d-8cd2-1da50cd0219c"
      },
      "source": [
        "<h1>Exploratory Data Analysis</h1>"
      ]
    },
    {
      "cell_type": "code",
      "execution_count": 12,
      "id": "02472e6d-5c71-49b0-bb0e-d0536b1bc824",
      "metadata": {
        "id": "02472e6d-5c71-49b0-bb0e-d0536b1bc824"
      },
      "outputs": [],
      "source": [
        "avg_sales_revenue_each_day = data.groupby('Day of the Week')['Sales Revenue (USD)'].mean()\n",
        "avg_units_sold_each_day = data.groupby('Day of the Week')['Units Sold'].mean()"
      ]
    },
    {
      "cell_type": "markdown",
      "source": [
        "Insight-calculates the average sales revenue and average units sold for each day of the week using groupby"
      ],
      "metadata": {
        "id": "Cm7WzUnhnO7E"
      },
      "id": "Cm7WzUnhnO7E"
    },
    {
      "cell_type": "code",
      "execution_count": 13,
      "id": "ed42a82e-7913-47cf-b4bf-95e9b5751c09",
      "metadata": {
        "colab": {
          "base_uri": "https://localhost:8080/",
          "height": 1000
        },
        "id": "ed42a82e-7913-47cf-b4bf-95e9b5751c09",
        "outputId": "81333d84-96d4-46c0-a792-c9b1fc61fbbc"
      },
      "outputs": [
        {
          "output_type": "display_data",
          "data": {
            "text/plain": [
              "<Figure size 1000x600 with 1 Axes>"
            ],
            "image/png": "[encoded data removed]"
          },
          "metadata": {}
        },
        {
          "output_type": "display_data",
          "data": {
            "text/plain": [
              "<Figure size 1000x600 with 1 Axes>"
            ],
            "image/png": "[encoded data removed]"
          },
          "metadata": {}
        }
      ],
      "source": [
        "plt.figure(figsize=(10, 6))\n",
        "plt.bar(avg_sales_revenue_each_day.index, avg_sales_revenue_each_day.values)\n",
        "plt.xlabel('Day of the Week')\n",
        "plt.ylabel('Average Sales Revenue (USD)')\n",
        "plt.title('Average Sales Revenue by Day of the Week')\n",
        "plt.show()\n",
        "\n",
        "plt.figure(figsize=(10, 6))\n",
        "plt.bar(avg_units_sold_each_day.index, avg_units_sold_each_day.values)\n",
        "plt.xlabel('Day of the Week')\n",
        "plt.ylabel('Average Units Sold')\n",
        "plt.title('Average Units Sold by Day of the Week')\n",
        "plt.show()"
      ]
    },
    {
      "cell_type": "markdown",
      "source": [
        "Insight-Visualizing daily averages highlights trends for revenue and sales, guiding strategic decisions."
      ],
      "metadata": {
        "id": "0Q2rd3EGnUFi"
      },
      "id": "0Q2rd3EGnUFi"
    },
    {
      "cell_type": "code",
      "execution_count": 14,
      "id": "05863bc8-6260-4af9-ad60-c689d68072ea",
      "metadata": {
        "colab": {
          "base_uri": "https://localhost:8080/"
        },
        "id": "05863bc8-6260-4af9-ad60-c689d68072ea",
        "outputId": "095e42d8-6311-43f8-c35f-e2437647e748"
      },
      "outputs": [
        {
          "output_type": "stream",
          "name": "stdout",
          "text": [
            "Correlation between Marketing Spend and Sales Revenue: -0.00\n"
          ]
        }
      ],
      "source": [
        "correlation = data['Marketing Spend (USD)'].corr(data['Sales Revenue (USD)'])\n",
        "print(f\"Correlation between Marketing Spend and Sales Revenue: {correlation:.2f}\")"
      ]
    },
    {
      "cell_type": "markdown",
      "id": "81a66dbc-6106-46e0-89d9-b57d10e2c8b2",
      "metadata": {
        "id": "81a66dbc-6106-46e0-89d9-b57d10e2c8b2"
      },
      "source": [
        "If the correlation coefficient is close to 1, it indicates a strong positive linear relationship between marketing spend and sales revenue.\n",
        "\n",
        "If the correlation coefficient is close to -1, it indicates a strong negative linear relationship between marketing spend and sales revenue.\n",
        "\n",
        "If the correlation coefficient is close to 0, it indicates no linear relationship between marketing spend and sales revenue."
      ]
    },
    {
      "cell_type": "markdown",
      "source": [
        "Insight-A strong positive correlation suggests effective marketing drives higher sales revenue."
      ],
      "metadata": {
        "id": "39X2TuNhnjxF"
      },
      "id": "39X2TuNhnjxF"
    },
    {
      "cell_type": "code",
      "execution_count": 15,
      "id": "f13e5900-a9bb-4607-88da-329322623e64",
      "metadata": {
        "colab": {
          "base_uri": "https://localhost:8080/",
          "height": 394
        },
        "id": "f13e5900-a9bb-4607-88da-329322623e64",
        "outputId": "96be137c-148d-4ebc-aff9-8e557c0d90c4"
      },
      "outputs": [
        {
          "output_type": "execute_result",
          "data": {
            "text/plain": [
              "                Sales Revenue (USD)  Units Sold\n",
              "Store Location                                 \n",
              "Congo                     644103.38        1474\n",
              "Korea                     586331.83        1398\n",
              "Anguilla                  452484.21         911\n",
              "Turkey                    447835.20         879\n",
              "Kenya                     445464.81         916\n",
              "Mozambique                432982.67         907\n",
              "Guam                      431197.65         963\n",
              "Egypt                     426621.90         832\n",
              "Western Sahara            426248.78         869\n",
              "Guinea-Bissau             424394.26         862"
            ],
            "text/html": [
              "\n",
              "  <div id=\"df-876f9802-44e2-49a1-95c7-aa45112a871f\" class=\"colab-df-container\">\n",
              "    <div>\n",
              "<style scoped>\n",
              "    .dataframe tbody tr th:only-of-type {\n",
              "        vertical-align: middle;\n",
              "    }\n",
              "\n",
              "    .dataframe tbody tr th {\n",
              "        vertical-align: top;\n",
              "    }\n",
              "\n",
              "    .dataframe thead th {\n",
              "        text-align: right;\n",
              "    }\n",
              "</style>\n",
              "<table border=\"1\" class=\"dataframe\">\n",
              "  <thead>\n",
              "    <tr style=\"text-align: right;\">\n",
              "      <th></th>\n",
              "      <th>Sales Revenue (USD)</th>\n",
              "      <th>Units Sold</th>\n",
              "    </tr>\n",
              "    <tr>\n",
              "      <th>Store Location</th>\n",
              "      <th></th>\n",
              "      <th></th>\n",
              "    </tr>\n",
              "  </thead>\n",
              "  <tbody>\n",
              "    <tr>\n",
              "      <th>Congo</th>\n",
              "      <td>644103.38</td>\n",
              "      <td>1474</td>\n",
              "    </tr>\n",
              "    <tr>\n",
              "      <th>Korea</th>\n",
              "      <td>586331.83</td>\n",
              "      <td>1398</td>\n",
              "    </tr>\n",
              "    <tr>\n",
              "      <th>Anguilla</th>\n",
              "      <td>452484.21</td>\n",
              "      <td>911</td>\n",
              "    </tr>\n",
              "    <tr>\n",
              "      <th>Turkey</th>\n",
              "      <td>447835.20</td>\n",
              "      <td>879</td>\n",
              "    </tr>\n",
              "    <tr>\n",
              "      <th>Kenya</th>\n",
              "      <td>445464.81</td>\n",
              "      <td>916</td>\n",
              "    </tr>\n",
              "    <tr>\n",
              "      <th>Mozambique</th>\n",
              "      <td>432982.67</td>\n",
              "      <td>907</td>\n",
              "    </tr>\n",
              "    <tr>\n",
              "      <th>Guam</th>\n",
              "      <td>431197.65</td>\n",
              "      <td>963</td>\n",
              "    </tr>\n",
              "    <tr>\n",
              "      <th>Egypt</th>\n",
              "      <td>426621.90</td>\n",
              "      <td>832</td>\n",
              "    </tr>\n",
              "    <tr>\n",
              "      <th>Western Sahara</th>\n",
              "      <td>426248.78</td>\n",
              "      <td>869</td>\n",
              "    </tr>\n",
              "    <tr>\n",
              "      <th>Guinea-Bissau</th>\n",
              "      <td>424394.26</td>\n",
              "      <td>862</td>\n",
              "    </tr>\n",
              "  </tbody>\n",
              "</table>\n",
              "</div>\n",
              "    <div class=\"colab-df-buttons\">\n",
              "\n",
              "  <div class=\"colab-df-container\">\n",
              "    <button class=\"colab-df-convert\" onclick=\"convertToInteractive('df-876f9802-44e2-49a1-95c7-aa45112a871f')\"\n",
              "            title=\"Convert this dataframe to an interactive table.\"\n",
              "            style=\"display:none;\">\n",
              "\n",
              "  <svg xmlns=\"http://www.w3.org/2000/svg\" height=\"24px\" viewBox=\"0 -960 960 960\">\n",
              "    <path d=\"M120-120v-720h720v720H120Zm60-500h600v-160H180v160Zm220 220h160v-160H400v160Zm0 220h160v-160H400v160ZM180-400h160v-160H180v160Zm440 0h160v-160H620v160ZM180-180h160v-160H180v160Zm440 0h160v-160H620v160Z\"/>\n",
              "  </svg>\n",
              "    </button>\n",
              "\n",
              "  <style>\n",
              "    .colab-df-container {\n",
              "      display:flex;\n",
              "      gap: 12px;\n",
              "    }\n",
              "\n",
              "    .colab-df-convert {\n",
              "      background-color: #E8F0FE;\n",
              "      border: none;\n",
              "      border-radius: 50%;\n",
              "      cursor: pointer;\n",
              "      display: none;\n",
              "      fill: #1967D2;\n",
              "      height: 32px;\n",
              "      padding: 0 0 0 0;\n",
              "      width: 32px;\n",
              "    }\n",
              "\n",
              "    .colab-df-convert:hover {\n",
              "      background-color: #E2EBFA;\n",
              "      box-shadow: 0px 1px 2px rgba(60, 64, 67, 0.3), 0px 1px 3px 1px rgba(60, 64, 67, 0.15);\n",
              "      fill: #174EA6;\n",
              "    }\n",
              "\n",
              "    .colab-df-buttons div {\n",
              "      margin-bottom: 4px;\n",
              "    }\n",
              "\n",
              "    [theme=dark] .colab-df-convert {\n",
              "      background-color: #3B4455;\n",
              "      fill: #D2E3FC;\n",
              "    }\n",
              "\n",
              "    [theme=dark] .colab-df-convert:hover {\n",
              "      background-color: #434B5C;\n",
              "      box-shadow: 0px 1px 3px 1px rgba(0, 0, 0, 0.15);\n",
              "      filter: drop-shadow(0px 1px 2px rgba(0, 0, 0, 0.3));\n",
              "      fill: #FFFFFF;\n",
              "    }\n",
              "  </style>\n",
              "\n",
              "    <script>\n",
              "      const buttonEl =\n",
              "        document.querySelector('#df-876f9802-44e2-49a1-95c7-aa45112a871f button.colab-df-convert');\n",
              "      buttonEl.style.display =\n",
              "        google.colab.kernel.accessAllowed ? 'block' : 'none';\n",
              "\n",
              "      async function convertToInteractive(key) {\n",
              "        const element = document.querySelector('#df-876f9802-44e2-49a1-95c7-aa45112a871f');\n",
              "        const dataTable =\n",
              "          await google.colab.kernel.invokeFunction('convertToInteractive',\n",
              "                                                    [key], {});\n",
              "        if (!dataTable) return;\n",
              "\n",
              "        const docLinkHtml = 'Like what you see? Visit the ' +\n",
              "          '<a target=\"_blank\" href=https://colab.research.google.com/notebooks/data_table.ipynb>data table notebook</a>'\n",
              "          + ' to learn more about interactive tables.';\n",
              "        element.innerHTML = '';\n",
              "        dataTable['output_type'] = 'display_data';\n",
              "        await google.colab.output.renderOutput(dataTable, element);\n",
              "        const docLink = document.createElement('div');\n",
              "        docLink.innerHTML = docLinkHtml;\n",
              "        element.appendChild(docLink);\n",
              "      }\n",
              "    </script>\n",
              "  </div>\n",
              "\n",
              "\n",
              "<div id=\"df-8e4bf020-903f-412e-9f6e-85d4c2b4df6f\">\n",
              "  <button class=\"colab-df-quickchart\" onclick=\"quickchart('df-8e4bf020-903f-412e-9f6e-85d4c2b4df6f')\"\n",
              "            title=\"Suggest charts\"\n",
              "            style=\"display:none;\">\n",
              "\n",
              "<svg xmlns=\"http://www.w3.org/2000/svg\" height=\"24px\"viewBox=\"0 0 24 24\"\n",
              "     width=\"24px\">\n",
              "    <g>\n",
              "        <path d=\"M19 3H5c-1.1 0-2 .9-2 2v14c0 1.1.9 2 2 2h14c1.1 0 2-.9 2-2V5c0-1.1-.9-2-2-2zM9 17H7v-7h2v7zm4 0h-2V7h2v10zm4 0h-2v-4h2v4z\"/>\n",
              "    </g>\n",
              "</svg>\n",
              "  </button>\n",
              "\n",
              "<style>\n",
              "  .colab-df-quickchart {\n",
              "      --bg-color: #E8F0FE;\n",
              "      --fill-color: #1967D2;\n",
              "      --hover-bg-color: #E2EBFA;\n",
              "      --hover-fill-color: #174EA6;\n",
              "      --disabled-fill-color: #AAA;\n",
              "      --disabled-bg-color: #DDD;\n",
              "  }\n",
              "\n",
              "  [theme=dark] .colab-df-quickchart {\n",
              "      --bg-color: #3B4455;\n",
              "      --fill-color: #D2E3FC;\n",
              "      --hover-bg-color: #434B5C;\n",
              "      --hover-fill-color: #FFFFFF;\n",
              "      --disabled-bg-color: #3B4455;\n",
              "      --disabled-fill-color: #666;\n",
              "  }\n",
              "\n",
              "  .colab-df-quickchart {\n",
              "    background-color: var(--bg-color);\n",
              "    border: none;\n",
              "    border-radius: 50%;\n",
              "    cursor: pointer;\n",
              "    display: none;\n",
              "    fill: var(--fill-color);\n",
              "    height: 32px;\n",
              "    padding: 0;\n",
              "    width: 32px;\n",
              "  }\n",
              "\n",
              "  .colab-df-quickchart:hover {\n",
              "    background-color: var(--hover-bg-color);\n",
              "    box-shadow: 0 1px 2px rgba(60, 64, 67, 0.3), 0 1px 3px 1px rgba(60, 64, 67, 0.15);\n",
              "    fill: var(--button-hover-fill-color);\n",
              "  }\n",
              "\n",
              "  .colab-df-quickchart-complete:disabled,\n",
              "  .colab-df-quickchart-complete:disabled:hover {\n",
              "    background-color: var(--disabled-bg-color);\n",
              "    fill: var(--disabled-fill-color);\n",
              "    box-shadow: none;\n",
              "  }\n",
              "\n",
              "  .colab-df-spinner {\n",
              "    border: 2px solid var(--fill-color);\n",
              "    border-color: transparent;\n",
              "    border-bottom-color: var(--fill-color);\n",
              "    animation:\n",
              "      spin 1s steps(1) infinite;\n",
              "  }\n",
              "\n",
              "  @keyframes spin {\n",
              "    0% {\n",
              "      border-color: transparent;\n",
              "      border-bottom-color: var(--fill-color);\n",
              "      border-left-color: var(--fill-color);\n",
              "    }\n",
              "    20% {\n",
              "      border-color: transparent;\n",
              "      border-left-color: var(--fill-color);\n",
              "      border-top-color: var(--fill-color);\n",
              "    }\n",
              "    30% {\n",
              "      border-color: transparent;\n",
              "      border-left-color: var(--fill-color);\n",
              "      border-top-color: var(--fill-color);\n",
              "      border-right-color: var(--fill-color);\n",
              "    }\n",
              "    40% {\n",
              "      border-color: transparent;\n",
              "      border-right-color: var(--fill-color);\n",
              "      border-top-color: var(--fill-color);\n",
              "    }\n",
              "    60% {\n",
              "      border-color: transparent;\n",
              "      border-right-color: var(--fill-color);\n",
              "    }\n",
              "    80% {\n",
              "      border-color: transparent;\n",
              "      border-right-color: var(--fill-color);\n",
              "      border-bottom-color: var(--fill-color);\n",
              "    }\n",
              "    90% {\n",
              "      border-color: transparent;\n",
              "      border-bottom-color: var(--fill-color);\n",
              "    }\n",
              "  }\n",
              "</style>\n",
              "\n",
              "  <script>\n",
              "    async function quickchart(key) {\n",
              "      const quickchartButtonEl =\n",
              "        document.querySelector('#' + key + ' button');\n",
              "      quickchartButtonEl.disabled = true;  // To prevent multiple clicks.\n",
              "      quickchartButtonEl.classList.add('colab-df-spinner');\n",
              "      try {\n",
              "        const charts = await google.colab.kernel.invokeFunction(\n",
              "            'suggestCharts', [key], {});\n",
              "      } catch (error) {\n",
              "        console.error('Error during call to suggestCharts:', error);\n",
              "      }\n",
              "      quickchartButtonEl.classList.remove('colab-df-spinner');\n",
              "      quickchartButtonEl.classList.add('colab-df-quickchart-complete');\n",
              "    }\n",
              "    (() => {\n",
              "      let quickchartButtonEl =\n",
              "        document.querySelector('#df-8e4bf020-903f-412e-9f6e-85d4c2b4df6f button');\n",
              "      quickchartButtonEl.style.display =\n",
              "        google.colab.kernel.accessAllowed ? 'block' : 'none';\n",
              "    })();\n",
              "  </script>\n",
              "</div>\n",
              "\n",
              "    </div>\n",
              "  </div>\n"
            ],
            "application/vnd.google.colaboratory.intrinsic+json": {
              "type": "dataframe",
              "variable_name": "location_data",
              "summary": "{\n  \"name\": \"location_data\",\n  \"rows\": 243,\n  \"fields\": [\n    {\n      \"column\": \"Store Location\",\n      \"properties\": {\n        \"dtype\": \"string\",\n        \"num_unique_values\": 243,\n        \"samples\": [\n          \"Mali\",\n          \"Guam\",\n          \"Japan\"\n        ],\n        \"semantic_type\": \"\",\n        \"description\": \"\"\n      }\n    },\n    {\n      \"column\": \"Sales Revenue (USD)\",\n      \"properties\": {\n        \"dtype\": \"number\",\n        \"std\": 51448.27283477621,\n        \"min\": 199063.87,\n        \"max\": 644103.38,\n        \"num_unique_values\": 243,\n        \"samples\": [\n          397038.02,\n          431197.65,\n          320084.94\n        ],\n        \"semantic_type\": \"\",\n        \"description\": \"\"\n      }\n    },\n    {\n      \"column\": \"Units Sold\",\n      \"properties\": {\n        \"dtype\": \"number\",\n        \"std\": 102,\n        \"min\": 476,\n        \"max\": 1474,\n        \"num_unique_values\": 170,\n        \"samples\": [\n          684,\n          828,\n          713\n        ],\n        \"semantic_type\": \"\",\n        \"description\": \"\"\n      }\n    }\n  ]\n}"
            }
          },
          "metadata": {},
          "execution_count": 15
        }
      ],
      "source": [
        "location_data = data.groupby('Store Location')[['Sales Revenue (USD)', 'Units Sold']].sum()\n",
        "location_data = location_data.sort_values(by=['Sales Revenue (USD)', 'Units Sold'], ascending=False)\n",
        "location_data.head(10)"
      ]
    },
    {
      "cell_type": "markdown",
      "source": [
        "Insight-Identifying top-performing locations helps optimize inventory and marketing strategies."
      ],
      "metadata": {
        "id": "VV0lGFlknqE0"
      },
      "id": "VV0lGFlknqE0"
    },
    {
      "cell_type": "markdown",
      "id": "b9f554aa-d957-4353-8845-86675a51c534",
      "metadata": {
        "id": "b9f554aa-d957-4353-8845-86675a51c534"
      },
      "source": [
        "<h1>Inferential Statistics</h1>"
      ]
    },
    {
      "cell_type": "code",
      "execution_count": 16,
      "id": "7acc0609-fc79-4412-b80b-4ee419a87602",
      "metadata": {
        "colab": {
          "base_uri": "https://localhost:8080/"
        },
        "id": "7acc0609-fc79-4412-b80b-4ee419a87602",
        "outputId": "f1739659-96f4-4e6d-a41d-b9ccb07d0271"
      },
      "outputs": [
        {
          "output_type": "stream",
          "name": "stdout",
          "text": [
            "Correlation between Discount Percentage and Sales Revenue: -0.07\n"
          ]
        }
      ],
      "source": [
        "correlation_discount_sales = data['Discount Percentage'].corr(data['Sales Revenue (USD)'])\n",
        "print(f\"Correlation between Discount Percentage and Sales Revenue: {correlation_discount_sales:.2f}\")"
      ]
    },
    {
      "cell_type": "markdown",
      "source": [
        "Insight-A significant correlation suggests discounts may influence sales performance positively or negatively."
      ],
      "metadata": {
        "id": "GIPOS4I7nyKw"
      },
      "id": "GIPOS4I7nyKw"
    },
    {
      "cell_type": "code",
      "execution_count": 17,
      "id": "35e7cc27-0051-4d84-8f64-a00b8b1a1826",
      "metadata": {
        "colab": {
          "base_uri": "https://localhost:8080/",
          "height": 472
        },
        "id": "35e7cc27-0051-4d84-8f64-a00b8b1a1826",
        "outputId": "a7466277-dbd2-4234-cf53-3bf693d6b56d"
      },
      "outputs": [
        {
          "output_type": "display_data",
          "data": {
            "text/plain": [
              "<Figure size 640x480 with 1 Axes>"
            ],
            "image/png": "[encoded data removed]"
          },
          "metadata": {}
        }
      ],
      "source": [
        "plt.scatter(data['Discount Percentage'], data['Sales Revenue (USD)'])\n",
        "plt.xlabel('Discount Percentage')\n",
        "plt.ylabel('Sales Revenue (USD)')\n",
        "plt.title('Correlation between Discount Percentage and Sales Revenue')\n",
        "plt.show()"
      ]
    },
    {
      "cell_type": "markdown",
      "source": [
        "Insight-The scatter plot helps identify trends or patterns, revealing how discounts impact sales revenue."
      ],
      "metadata": {
        "id": "LpWMHf9yn2Nv"
      },
      "id": "LpWMHf9yn2Nv"
    },
    {
      "cell_type": "code",
      "execution_count": 18,
      "id": "cdf2440e-0325-481f-9852-80e6f9b6f587",
      "metadata": {
        "colab": {
          "base_uri": "https://localhost:8080/"
        },
        "id": "cdf2440e-0325-481f-9852-80e6f9b6f587",
        "outputId": "d4a97af4-faab-4a6e-aaac-cc1adc2e5b3a"
      },
      "outputs": [
        {
          "output_type": "execute_result",
          "data": {
            "text/plain": [
              "array(['Spearsland'], dtype=object)"
            ]
          },
          "metadata": {},
          "execution_count": 18
        }
      ],
      "source": [
        "all_store_id = data['Store ID'].unique()\n",
        "all_store_id"
      ]
    },
    {
      "cell_type": "markdown",
      "source": [
        "Insight-Listing unique store IDs helps in analyzing performance across different locations or segments."
      ],
      "metadata": {
        "id": "6RFW_e_An8ws"
      },
      "id": "6RFW_e_An8ws"
    },
    {
      "cell_type": "code",
      "execution_count": 19,
      "id": "cb88a99c-3b2f-461b-ac3d-1a719bd9f36a",
      "metadata": {
        "colab": {
          "base_uri": "https://localhost:8080/",
          "height": 493
        },
        "id": "cb88a99c-3b2f-461b-ac3d-1a719bd9f36a",
        "outputId": "029b3f80-584f-4836-db12-7a4a55a38330"
      },
      "outputs": [
        {
          "output_type": "display_data",
          "data": {
            "text/plain": [
              "<Figure size 640x480 with 1 Axes>"
            ],
            "image/png": "[encoded data removed]"
          },
          "metadata": {}
        }
      ],
      "source": [
        "sales_based_on_holiday = data.groupby('Holiday Effect')['Sales Revenue (USD)'].mean()\n",
        "sales_based_on_holiday.plot(kind='bar')\n",
        "plt.title('Sales based on Holiday Effect')\n",
        "plt.xlabel('Holiday (True/False)')\n",
        "plt.ylabel('Average Sales')\n",
        "plt.show()"
      ]
    },
    {
      "cell_type": "markdown",
      "source": [
        "Insight-Comparing sales during holidays versus non-holidays reveals seasonal impacts on revenue."
      ],
      "metadata": {
        "id": "tsZu93mMoAmB"
      },
      "id": "tsZu93mMoAmB"
    },
    {
      "cell_type": "code",
      "execution_count": 20,
      "id": "6a7fdcf2-788a-44ca-87f7-b4718f5cce62",
      "metadata": {
        "colab": {
          "base_uri": "https://localhost:8080/",
          "height": 533
        },
        "id": "6a7fdcf2-788a-44ca-87f7-b4718f5cce62",
        "outputId": "2b49608b-f8a4-410e-b971-f86497815e83"
      },
      "outputs": [
        {
          "output_type": "display_data",
          "data": {
            "text/plain": [
              "<Figure size 640x480 with 1 Axes>"
            ],
            "image/png": "[encoded data removed]"
          },
          "metadata": {}
        }
      ],
      "source": [
        "most_sold_product = data.groupby('Product Category')['Sales Revenue (USD)'].mean()\n",
        "most_sold_product.plot(kind='bar')\n",
        "plt.title('Most Products Sold by Category')\n",
        "plt.xlabel('Product Category')\n",
        "plt.ylabel('Average Revenue')\n",
        "plt.show()"
      ]
    },
    {
      "cell_type": "markdown",
      "source": [
        "Insight-Identifying top-performing categories aids in inventory management and marketing focus."
      ],
      "metadata": {
        "id": "jL6rA_WYoKPW"
      },
      "id": "jL6rA_WYoKPW"
    },
    {
      "cell_type": "code",
      "execution_count": 21,
      "id": "6c5e5d8a-e707-404f-a827-f8b72571bbd5",
      "metadata": {
        "colab": {
          "base_uri": "https://localhost:8080/",
          "height": 241
        },
        "id": "6c5e5d8a-e707-404f-a827-f8b72571bbd5",
        "outputId": "efa51e93-ad0b-41df-c3e7-4576bb2ff8d3"
      },
      "outputs": [
        {
          "output_type": "execute_result",
          "data": {
            "text/plain": [
              "Product Category\n",
              "Furniture      9503\n",
              "Electronics    8041\n",
              "Clothing       6608\n",
              "Groceries      5848\n",
              "Name: count, dtype: int64"
            ],
            "text/html": [
              "<div>\n",
              "<style scoped>\n",
              "    .dataframe tbody tr th:only-of-type {\n",
              "        vertical-align: middle;\n",
              "    }\n",
              "\n",
              "    .dataframe tbody tr th {\n",
              "        vertical-align: top;\n",
              "    }\n",
              "\n",
              "    .dataframe thead th {\n",
              "        text-align: right;\n",
              "    }\n",
              "</style>\n",
              "<table border=\"1\" class=\"dataframe\">\n",
              "  <thead>\n",
              "    <tr style=\"text-align: right;\">\n",
              "      <th></th>\n",
              "      <th>count</th>\n",
              "    </tr>\n",
              "    <tr>\n",
              "      <th>Product Category</th>\n",
              "      <th></th>\n",
              "    </tr>\n",
              "  </thead>\n",
              "  <tbody>\n",
              "    <tr>\n",
              "      <th>Furniture</th>\n",
              "      <td>9503</td>\n",
              "    </tr>\n",
              "    <tr>\n",
              "      <th>Electronics</th>\n",
              "      <td>8041</td>\n",
              "    </tr>\n",
              "    <tr>\n",
              "      <th>Clothing</th>\n",
              "      <td>6608</td>\n",
              "    </tr>\n",
              "    <tr>\n",
              "      <th>Groceries</th>\n",
              "      <td>5848</td>\n",
              "    </tr>\n",
              "  </tbody>\n",
              "</table>\n",
              "</div><br><label><b>dtype:</b> int64</label>"
            ]
          },
          "metadata": {},
          "execution_count": 21
        }
      ],
      "source": [
        "product_count = data['Product Category'].value_counts()\n",
        "product_count"
      ]
    },
    {
      "cell_type": "markdown",
      "source": [
        "Insight-Analyzing product counts helps identify popular categories, guiding inventory and marketing strategies."
      ],
      "metadata": {
        "id": "xqNg_BQ7oOxZ"
      },
      "id": "xqNg_BQ7oOxZ"
    },
    {
      "cell_type": "code",
      "execution_count": 22,
      "id": "0754cdce-61f5-4111-bfa5-66af30364182",
      "metadata": {
        "colab": {
          "base_uri": "https://localhost:8080/",
          "height": 538
        },
        "id": "0754cdce-61f5-4111-bfa5-66af30364182",
        "outputId": "8f31ef6f-6d5e-40c0-cc14-02a8fe5e9319"
      },
      "outputs": [
        {
          "output_type": "display_data",
          "data": {
            "text/plain": [
              "<Figure size 640x480 with 1 Axes>"
            ],
            "image/png": "[encoded data removed]"
          },
          "metadata": {}
        }
      ],
      "source": [
        "avg_sales_revenue_congo = data[data['Store Location'] == 'Congo'].groupby('Day of the Week')['Sales Revenue (USD)'].mean()\n",
        "avg_sales_revenue_congo.plot(kind='bar')\n",
        "plt.title('Congo Sales data by Days of the week')\n",
        "plt.xlabel('Days of the Week')\n",
        "plt.ylabel('Average Sales Revenue')\n",
        "plt.show()"
      ]
    },
    {
      "cell_type": "markdown",
      "source": [
        "Insight-Understanding weekly sales patterns in Congo can inform targeted marketing and staffing strategies."
      ],
      "metadata": {
        "id": "qec-MV0MoUCw"
      },
      "id": "qec-MV0MoUCw"
    },
    {
      "cell_type": "markdown",
      "source": [
        "# **Conclusions**\n",
        "\n",
        "1) Marketing Spend Ineffectiveness: The lack of correlation between marketing spend and sales revenue indicates potential misallocation of resources. Despite a substantial marketing budget of 1.50 million USD, it did not translate into increased sales.\n",
        "\n",
        "2) Discount Strategy Concerns: The negative correlation between discount percentages and sales revenue suggests that lower discounts may lead to higher sales. This counterintuitive finding highlights a need for reassessment of discount strategies.\n",
        "\n",
        "3) Holiday Sales Patterns: Consistent sales spikes during holidays confirm the effectiveness of seasonal promotions, aligning with retail trends.\n",
        "\n",
        "4) Product and Regional Insights: Electronics emerged as the most sold product category, and the Congo region exhibited the highest sales, particularly on Saturdays and Wednesdays, deviating from common retail patterns."
      ],
      "metadata": {
        "id": "nxqXVPFSorkq"
      },
      "id": "nxqXVPFSorkq"
    },
    {
      "cell_type": "markdown",
      "source": [
        "# **Recommendations**\n",
        "\n",
        "1) Reassess Marketing Strategies: Conduct a thorough review of marketing initiatives to identify effective channels and campaigns. Consider reallocating the budget toward more impactful strategies or exploring alternative promotional methods.\n",
        "\n",
        "2) Reevaluate Discount Policies: Investigate the relationship between discount strategies and sales further. It may be beneficial to reduce or eliminate discounts to see if revenue increases. Testing different pricing strategies could provide deeper insights.\n",
        "\n",
        "3) Leverage Holiday Opportunities: Enhance holiday marketing efforts by planning targeted promotions and campaigns to capitalize on the observed sales spikes during these periods.\n",
        "\n",
        "4) Focus on Electronics and Congo Region: Prioritize inventory and marketing efforts around the electronics category and explore strategies to further boost sales in the Congo region, especially on peak sales days."
      ],
      "metadata": {
        "id": "QNy5VJM1pHdg"
      },
      "id": "QNy5VJM1pHdg"
    }
  ],
  "metadata": {
    "kernelspec": {
      "display_name": "Python 3 (ipykernel)",
      "language": "python",
      "name": "python3"
    },
    "language_info": {
      "codemirror_mode": {
        "name": "ipython",
        "version": 3
      },
      "file_extension": ".py",
      "mimetype": "text/x-python",
      "name": "python",
      "nbconvert_exporter": "python",
      "pygments_lexer": "ipython3",
      "version": "3.12.6"
    },
    "colab": {
      "provenance": []
    }
  },
  "nbformat": 4,
  "nbformat_minor": 5
}